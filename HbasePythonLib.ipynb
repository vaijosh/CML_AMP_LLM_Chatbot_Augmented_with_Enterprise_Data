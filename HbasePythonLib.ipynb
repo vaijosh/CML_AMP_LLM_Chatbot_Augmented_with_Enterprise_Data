{
 "cells": [
  {
   "cell_type": "code",
   "execution_count": 26,
   "metadata": {},
   "outputs": [
    {
     "data": {
      "text/plain": [
       "(True,\n",
       " {'row': [{'key': b'ae0fd802cd6eecb3fb90d77364b21db5',\n",
       "    'cell': [{'column': b'embedding:thumbprint',\n",
       "      'timestamp': 1694701199064,\n",
       "      '$': b''},\n",
       "     {'column': b'f:category',\n",
       "      'timestamp': 1694701199047,\n",
       "      '$': b'architecture-overview'},\n",
       "     {'column': b'f:filename',\n",
       "      'timestamp': 1694701199043,\n",
       "      '$': b'ml-architecture-overview-cml-1.txt'},\n",
       "     {'column': b'f:product', 'timestamp': 1694701199045, '$': b'cml-docs'},\n",
       "     {'column': b'f:topic',\n",
       "      'timestamp': 1694701199049,\n",
       "      '$': b'ml-architecture-overview-cml-1.txt'},\n",
       "     {'column': b'f:url',\n",
       "      'timestamp': 1694701199040,\n",
       "      '$': b'https://github.com/vaijosh/CML_AMP_LLM_Chatbot_Augmented_with_Enterprise_Data/blob/main/data/cml-docs/architecture-overview/topics/ml-architecture-overview-cml-1.txt'}]}]})"
      ]
     },
     "execution_count": 26,
     "metadata": {},
     "output_type": "execute_result"
    }
   ],
   "source": [
    "import embeddingQuery as embeddingQuery\n",
    "embeddingQuery.extractEmbeddingsAndQueryDb(\"document for cml architecture?\")\n"
   ]
  },
  {
   "cell_type": "code",
   "execution_count": null,
   "metadata": {},
   "outputs": [],
   "source": []
  }
 ],
 "metadata": {
  "kernelspec": {
   "display_name": "Python 3 (ipykernel)",
   "language": "python",
   "name": "python3"
  },
  "language_info": {
   "codemirror_mode": {
    "name": "ipython",
    "version": 3
   },
   "file_extension": ".py",
   "mimetype": "text/x-python",
   "name": "python",
   "nbconvert_exporter": "python",
   "pygments_lexer": "ipython3",
   "version": "3.8.11"
  }
 },
 "nbformat": 4,
 "nbformat_minor": 4
}
